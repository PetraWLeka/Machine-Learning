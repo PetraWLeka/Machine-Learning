{
 "cells": [
  {
   "cell_type": "code",
   "execution_count": 7,
   "id": "85ba8ea9-ec57-4a19-97cf-fae2ee61ab1f",
   "metadata": {},
   "outputs": [
    {
     "name": "stdout",
     "output_type": "stream",
     "text": [
      "Mixing completed.\n"
     ]
    }
   ],
   "source": [
    "import os\n",
    "import random\n",
    "import numpy as np\n",
    "import soundfile as sf\n",
    "\n",
    "# Set the paths to the folders containing audio files\n",
    "audio_folder = \"C:/kuliah/semester 6/ilmu data 1/Proyek deteksi teriak/data_paper/Raw Audio\"\n",
    "noise_folders = [\"engine_idling\", \"rain\", \"road_traffic\", \"thunderstorm\"]\n",
    "\n",
    "# Create a folder for the mixed audio files\n",
    "output_folder = \"data_with_noise\"\n",
    "os.makedirs(output_folder, exist_ok=True)\n",
    "\n",
    "# Function to mix audio files\n",
    "def mix_audio_with_noise(audio_file, noise_folder):\n",
    "    # Load audio file\n",
    "    audio, sr = sf.read(audio_file)\n",
    "    # Randomly select a noise file from the noise folder\n",
    "    noise_files = os.listdir(os.path.join(audio_folder, noise_folder))\n",
    "    noise_file = random.choice(noise_files)\n",
    "    # Load noise file\n",
    "    noise, _ = sf.read(os.path.join(audio_folder, noise_folder, noise_file))\n",
    "    # Convert noise to mono if it's stereo\n",
    "    if noise.ndim > 1:\n",
    "        noise = np.mean(noise, axis=1)\n",
    "    # Ensure noise duration is at least as long as audio duration\n",
    "    if len(noise) < len(audio):\n",
    "        # Repeat noise to match the length of audio\n",
    "        repetitions = len(audio) // len(noise) + 1\n",
    "        noise = np.tile(noise, repetitions)[:len(audio)]\n",
    "    # Mix audio and noise\n",
    "    mixed_audio = audio + noise[:len(audio)]\n",
    "    return mixed_audio, sr\n",
    "\n",
    "# Iterate over scream files and mix with noise\n",
    "scream_files = os.listdir(os.path.join(audio_folder, \"scream\"))\n",
    "for scream_file in scream_files:\n",
    "    # Mix audio with random noise\n",
    "    mixed_audio, sr = mix_audio_with_noise(os.path.join(audio_folder, \"scream\", scream_file), random.choice(noise_folders))\n",
    "    # Save mixed audio to output folder\n",
    "    output_file = os.path.join(output_folder, f\"mixed_{scream_file}\")\n",
    "    sf.write(output_file, mixed_audio, sr)\n",
    "\n",
    "print(\"Mixing completed.\")"
   ]
  }
 ],
 "metadata": {
  "kernelspec": {
   "display_name": "Python 3 (ipykernel)",
   "language": "python",
   "name": "python3"
  },
  "language_info": {
   "codemirror_mode": {
    "name": "ipython",
    "version": 3
   },
   "file_extension": ".py",
   "mimetype": "text/x-python",
   "name": "python",
   "nbconvert_exporter": "python",
   "pygments_lexer": "ipython3",
   "version": "3.10.13"
  }
 },
 "nbformat": 4,
 "nbformat_minor": 5
}
